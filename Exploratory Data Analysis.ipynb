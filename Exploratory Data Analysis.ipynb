{
 "cells": [
  {
   "cell_type": "code",
   "execution_count": 1,
   "metadata": {},
   "outputs": [
    {
     "name": "stdout",
     "output_type": "stream",
     "text": [
      "Requirement already satisfied: mat4py in /opt/anaconda3/lib/python3.7/site-packages (0.4.3)\n",
      "\u001b[33mWARNING: You are using pip version 20.2.4; however, version 21.1.1 is available.\n",
      "You should consider upgrading via the '/opt/anaconda3/bin/python -m pip install --upgrade pip' command.\u001b[0m\n",
      "Total trail number: 1615\n",
      "Walking trail number: 844\n",
      "Step Up trail number: 169\n",
      "Step Down trail number: 146\n",
      "Toe Walking trail number: 278\n",
      "Heel Walking trail number: 178\n"
     ]
    },
    {
     "data": {
      "text/html": [
       "<div>\n",
       "<style scoped>\n",
       "    .dataframe tbody tr th:only-of-type {\n",
       "        vertical-align: middle;\n",
       "    }\n",
       "\n",
       "    .dataframe tbody tr th {\n",
       "        vertical-align: top;\n",
       "    }\n",
       "\n",
       "    .dataframe thead th {\n",
       "        text-align: right;\n",
       "    }\n",
       "</style>\n",
       "<table border=\"1\" class=\"dataframe\">\n",
       "  <thead>\n",
       "    <tr style=\"text-align: right;\">\n",
       "      <th></th>\n",
       "      <th>Task</th>\n",
       "      <th>Speed</th>\n",
       "      <th>Stride Length</th>\n",
       "      <th>Subject</th>\n",
       "      <th>EMGFreq</th>\n",
       "      <th>Age</th>\n",
       "      <th>Gender</th>\n",
       "      <th>Height</th>\n",
       "      <th>Mass</th>\n",
       "      <th>TA</th>\n",
       "      <th>SO</th>\n",
       "      <th>GAM</th>\n",
       "      <th>PL</th>\n",
       "      <th>RF</th>\n",
       "      <th>VM</th>\n",
       "      <th>BF</th>\n",
       "      <th>GM</th>\n",
       "    </tr>\n",
       "  </thead>\n",
       "  <tbody>\n",
       "    <tr>\n",
       "      <th>0</th>\n",
       "      <td>Walking</td>\n",
       "      <td>1.690375</td>\n",
       "      <td>1.546251</td>\n",
       "      <td>Subject1</td>\n",
       "      <td>1000</td>\n",
       "      <td>54</td>\n",
       "      <td>M</td>\n",
       "      <td>185</td>\n",
       "      <td>70</td>\n",
       "      <td>[-0.11809454008471221, -0.2650529786478728, -0...</td>\n",
       "      <td>[-0.009607600077288225, -0.005657104338752106,...</td>\n",
       "      <td>[-0.0001611588231753558, -0.00332155468640849,...</td>\n",
       "      <td>[0.011478568922029808, 0.0035775774449575692, ...</td>\n",
       "      <td>[0.04762717799167149, -0.002939170371973887, -...</td>\n",
       "      <td>[-0.03687869320856407, 0.00025596455088816583,...</td>\n",
       "      <td>[-0.0012546879588626325, 0.03587997343856841, ...</td>\n",
       "      <td>[-0.028140168069512583, -0.030510465876432136,...</td>\n",
       "    </tr>\n",
       "    <tr>\n",
       "      <th>1</th>\n",
       "      <td>Walking</td>\n",
       "      <td>1.761722</td>\n",
       "      <td>1.587136</td>\n",
       "      <td>Subject1</td>\n",
       "      <td>1000</td>\n",
       "      <td>54</td>\n",
       "      <td>M</td>\n",
       "      <td>185</td>\n",
       "      <td>70</td>\n",
       "      <td>[-0.02871851575036999, -0.12116011930629611, -...</td>\n",
       "      <td>[0.008090599294519052, 0.005720303306588903, -...</td>\n",
       "      <td>[0.002654709533089772, -0.004456182068679482, ...</td>\n",
       "      <td>[0.03353813735884614, 0.019316354155307636, 0....</td>\n",
       "      <td>[0.011251006071688607, 0.004930214345222339, -...</td>\n",
       "      <td>[0.04750391963170841, 0.01510985748609528, -0....</td>\n",
       "      <td>[0.0837789848446846, -0.037896286812610924, -0...</td>\n",
       "      <td>[0.055597683967789635, 0.059548179706325755, 0...</td>\n",
       "    </tr>\n",
       "    <tr>\n",
       "      <th>2</th>\n",
       "      <td>Walking</td>\n",
       "      <td>1.782074</td>\n",
       "      <td>1.574424</td>\n",
       "      <td>Subject1</td>\n",
       "      <td>1000</td>\n",
       "      <td>54</td>\n",
       "      <td>M</td>\n",
       "      <td>185</td>\n",
       "      <td>70</td>\n",
       "      <td>[-0.11514588550198823, 0.05788582348031923, 0....</td>\n",
       "      <td>[0.012711127055808902, -0.0117819472507108, -0...</td>\n",
       "      <td>[0.0016212943592108786, -0.0007490052666980773...</td>\n",
       "      <td>[0.024148601369233802, 0.04864167931373231, 0....</td>\n",
       "      <td>[0.013690856576431543, 0.03660373477032408, 0....</td>\n",
       "      <td>[-0.026215486286673695, -0.04201746924081817, ...</td>\n",
       "      <td>[-0.03707148425746709, -0.05682396295014769, -...</td>\n",
       "      <td>[-0.03383835792192258, -0.028307666070759296, ...</td>\n",
       "    </tr>\n",
       "    <tr>\n",
       "      <th>3</th>\n",
       "      <td>Walking</td>\n",
       "      <td>1.773877</td>\n",
       "      <td>1.562858</td>\n",
       "      <td>Subject1</td>\n",
       "      <td>1000</td>\n",
       "      <td>54</td>\n",
       "      <td>M</td>\n",
       "      <td>185</td>\n",
       "      <td>70</td>\n",
       "      <td>[0.2135574904968962, 0.1305970799876377, 0.028...</td>\n",
       "      <td>[-0.020179122657282278, -0.028080114134354517,...</td>\n",
       "      <td>[-0.0014474571798928082, -0.000657357304589822...</td>\n",
       "      <td>[0.02237244916614145, 0.05160611908650026, 0.0...</td>\n",
       "      <td>[0.004212797648506239, 0.016064288502093405, 0...</td>\n",
       "      <td>[-0.00924099367693998, -0.040844959585228935, ...</td>\n",
       "      <td>[0.017704544006846845, 0.018494640244171023, 0...</td>\n",
       "      <td>[-0.011851489944092464, -0.007110894330253359,...</td>\n",
       "    </tr>\n",
       "    <tr>\n",
       "      <th>4</th>\n",
       "      <td>Walking</td>\n",
       "      <td>1.770630</td>\n",
       "      <td>1.558874</td>\n",
       "      <td>Subject1</td>\n",
       "      <td>1000</td>\n",
       "      <td>54</td>\n",
       "      <td>M</td>\n",
       "      <td>185</td>\n",
       "      <td>70</td>\n",
       "      <td>[0.2313031000085175, 0.28423976618796587, 0.06...</td>\n",
       "      <td>[0.019556537154130638, 0.032198120607063174, 0...</td>\n",
       "      <td>[0.0006510417733807117, 0.0022312415239866823,...</td>\n",
       "      <td>[0.011962092685280368, -0.0014695942809339613,...</td>\n",
       "      <td>[0.012790129403583705, 0.024641616619192064, 0...</td>\n",
       "      <td>[-0.014803303201915696, -0.024284492610604502,...</td>\n",
       "      <td>[0.03573772846721113, 0.016775346011854708, 0....</td>\n",
       "      <td>[0.023563910872326232, 0.022773810997023247, 0...</td>\n",
       "    </tr>\n",
       "  </tbody>\n",
       "</table>\n",
       "</div>"
      ],
      "text/plain": [
       "      Task     Speed  Stride Length   Subject  EMGFreq  Age Gender  Height  \\\n",
       "0  Walking  1.690375       1.546251  Subject1     1000   54     M      185   \n",
       "1  Walking  1.761722       1.587136  Subject1     1000   54     M      185   \n",
       "2  Walking  1.782074       1.574424  Subject1     1000   54     M      185   \n",
       "3  Walking  1.773877       1.562858  Subject1     1000   54     M      185   \n",
       "4  Walking  1.770630       1.558874  Subject1     1000   54     M      185   \n",
       "\n",
       "   Mass                                                 TA  \\\n",
       "0    70  [-0.11809454008471221, -0.2650529786478728, -0...   \n",
       "1    70  [-0.02871851575036999, -0.12116011930629611, -...   \n",
       "2    70  [-0.11514588550198823, 0.05788582348031923, 0....   \n",
       "3    70  [0.2135574904968962, 0.1305970799876377, 0.028...   \n",
       "4    70  [0.2313031000085175, 0.28423976618796587, 0.06...   \n",
       "\n",
       "                                                  SO  \\\n",
       "0  [-0.009607600077288225, -0.005657104338752106,...   \n",
       "1  [0.008090599294519052, 0.005720303306588903, -...   \n",
       "2  [0.012711127055808902, -0.0117819472507108, -0...   \n",
       "3  [-0.020179122657282278, -0.028080114134354517,...   \n",
       "4  [0.019556537154130638, 0.032198120607063174, 0...   \n",
       "\n",
       "                                                 GAM  \\\n",
       "0  [-0.0001611588231753558, -0.00332155468640849,...   \n",
       "1  [0.002654709533089772, -0.004456182068679482, ...   \n",
       "2  [0.0016212943592108786, -0.0007490052666980773...   \n",
       "3  [-0.0014474571798928082, -0.000657357304589822...   \n",
       "4  [0.0006510417733807117, 0.0022312415239866823,...   \n",
       "\n",
       "                                                  PL  \\\n",
       "0  [0.011478568922029808, 0.0035775774449575692, ...   \n",
       "1  [0.03353813735884614, 0.019316354155307636, 0....   \n",
       "2  [0.024148601369233802, 0.04864167931373231, 0....   \n",
       "3  [0.02237244916614145, 0.05160611908650026, 0.0...   \n",
       "4  [0.011962092685280368, -0.0014695942809339613,...   \n",
       "\n",
       "                                                  RF  \\\n",
       "0  [0.04762717799167149, -0.002939170371973887, -...   \n",
       "1  [0.011251006071688607, 0.004930214345222339, -...   \n",
       "2  [0.013690856576431543, 0.03660373477032408, 0....   \n",
       "3  [0.004212797648506239, 0.016064288502093405, 0...   \n",
       "4  [0.012790129403583705, 0.024641616619192064, 0...   \n",
       "\n",
       "                                                  VM  \\\n",
       "0  [-0.03687869320856407, 0.00025596455088816583,...   \n",
       "1  [0.04750391963170841, 0.01510985748609528, -0....   \n",
       "2  [-0.026215486286673695, -0.04201746924081817, ...   \n",
       "3  [-0.00924099367693998, -0.040844959585228935, ...   \n",
       "4  [-0.014803303201915696, -0.024284492610604502,...   \n",
       "\n",
       "                                                  BF  \\\n",
       "0  [-0.0012546879588626325, 0.03587997343856841, ...   \n",
       "1  [0.0837789848446846, -0.037896286812610924, -0...   \n",
       "2  [-0.03707148425746709, -0.05682396295014769, -...   \n",
       "3  [0.017704544006846845, 0.018494640244171023, 0...   \n",
       "4  [0.03573772846721113, 0.016775346011854708, 0....   \n",
       "\n",
       "                                                  GM  \n",
       "0  [-0.028140168069512583, -0.030510465876432136,...  \n",
       "1  [0.055597683967789635, 0.059548179706325755, 0...  \n",
       "2  [-0.03383835792192258, -0.028307666070759296, ...  \n",
       "3  [-0.011851489944092464, -0.007110894330253359,...  \n",
       "4  [0.023563910872326232, 0.022773810997023247, 0...  "
      ]
     },
     "execution_count": 1,
     "metadata": {},
     "output_type": "execute_result"
    }
   ],
   "source": [
    "#!pip install ipynb\n",
    "#from ipynb.fs.full.generateDataset.ipynb import get_csv\n",
    "%run generateDataset.ipynb\n",
    "main_df = get_csv()\n",
    "\n",
    "main_df.head()"
   ]
  },
  {
   "cell_type": "code",
   "execution_count": 2,
   "metadata": {},
   "outputs": [
    {
     "name": "stdout",
     "output_type": "stream",
     "text": [
      "Total trail number: 1615\n",
      "Walking trail number: 844\n",
      "Step Up trail number: 169\n",
      "Step Down trail number: 146\n",
      "Toe Walking trail number: 278\n",
      "Heel Walking trail number: 178\n"
     ]
    }
   ],
   "source": [
    "#main_df = datam\n",
    "print('Total trail number: {}'.format(main_df.shape[0]))\n",
    "print('Walking trail number: {}'.format(main_df[main_df['Task']=='Walking'].shape[0]))\n",
    "print('Step Up trail number: {}'.format(main_df[main_df['Task']=='StepUp'].shape[0]))\n",
    "print('Step Down trail number: {}'.format(main_df[main_df['Task']=='StepDown'].shape[0]))\n",
    "print('Toe Walking trail number: {}'.format(main_df[main_df['Task']=='ToeWalking'].shape[0]))\n",
    "print('Heel Walking trail number: {}'.format(main_df[main_df['Task']=='HeelWalking'].shape[0])) \n"
   ]
  },
  {
   "cell_type": "code",
   "execution_count": 8,
   "metadata": {},
   "outputs": [
    {
     "data": {
      "text/html": [
       "<div>\n",
       "<style scoped>\n",
       "    .dataframe tbody tr th:only-of-type {\n",
       "        vertical-align: middle;\n",
       "    }\n",
       "\n",
       "    .dataframe tbody tr th {\n",
       "        vertical-align: top;\n",
       "    }\n",
       "\n",
       "    .dataframe thead th {\n",
       "        text-align: right;\n",
       "    }\n",
       "</style>\n",
       "<table border=\"1\" class=\"dataframe\">\n",
       "  <thead>\n",
       "    <tr style=\"text-align: right;\">\n",
       "      <th></th>\n",
       "      <th>Speed</th>\n",
       "      <th>Stride Length</th>\n",
       "      <th>EMGFreq</th>\n",
       "      <th>Age</th>\n",
       "      <th>Height</th>\n",
       "      <th>Mass</th>\n",
       "    </tr>\n",
       "    <tr>\n",
       "      <th>Subject</th>\n",
       "      <th></th>\n",
       "      <th></th>\n",
       "      <th></th>\n",
       "      <th></th>\n",
       "      <th></th>\n",
       "      <th></th>\n",
       "    </tr>\n",
       "  </thead>\n",
       "  <tbody>\n",
       "    <tr>\n",
       "      <th>Subject1</th>\n",
       "      <td>1.110720</td>\n",
       "      <td>1.194245</td>\n",
       "      <td>1000</td>\n",
       "      <td>54</td>\n",
       "      <td>185</td>\n",
       "      <td>70</td>\n",
       "    </tr>\n",
       "    <tr>\n",
       "      <th>Subject10</th>\n",
       "      <td>1.157813</td>\n",
       "      <td>1.232926</td>\n",
       "      <td>800</td>\n",
       "      <td>56</td>\n",
       "      <td>180</td>\n",
       "      <td>74</td>\n",
       "    </tr>\n",
       "    <tr>\n",
       "      <th>Subject11</th>\n",
       "      <td>1.162947</td>\n",
       "      <td>1.207819</td>\n",
       "      <td>1000</td>\n",
       "      <td>45</td>\n",
       "      <td>187</td>\n",
       "      <td>69</td>\n",
       "    </tr>\n",
       "    <tr>\n",
       "      <th>Subject12</th>\n",
       "      <td>0.899089</td>\n",
       "      <td>0.933785</td>\n",
       "      <td>800</td>\n",
       "      <td>26</td>\n",
       "      <td>166</td>\n",
       "      <td>54</td>\n",
       "    </tr>\n",
       "    <tr>\n",
       "      <th>Subject13</th>\n",
       "      <td>0.906443</td>\n",
       "      <td>1.075248</td>\n",
       "      <td>800</td>\n",
       "      <td>27</td>\n",
       "      <td>160</td>\n",
       "      <td>68</td>\n",
       "    </tr>\n",
       "  </tbody>\n",
       "</table>\n",
       "</div>"
      ],
      "text/plain": [
       "              Speed  Stride Length  EMGFreq  Age  Height  Mass\n",
       "Subject                                                       \n",
       "Subject1   1.110720       1.194245     1000   54     185    70\n",
       "Subject10  1.157813       1.232926      800   56     180    74\n",
       "Subject11  1.162947       1.207819     1000   45     187    69\n",
       "Subject12  0.899089       0.933785      800   26     166    54\n",
       "Subject13  0.906443       1.075248      800   27     160    68"
      ]
     },
     "execution_count": 8,
     "metadata": {},
     "output_type": "execute_result"
    }
   ],
   "source": [
    "descriptive_df.head()"
   ]
  },
  {
   "cell_type": "code",
   "execution_count": 7,
   "metadata": {},
   "outputs": [],
   "source": [
    "descriptive_df = main_df.groupby(['Subject']).mean()"
   ]
  },
  {
   "cell_type": "code",
   "execution_count": 10,
   "metadata": {},
   "outputs": [
    {
     "data": {
      "text/plain": [
       "<matplotlib.axes._subplots.AxesSubplot at 0x139df3cd0>"
      ]
     },
     "execution_count": 10,
     "metadata": {},
     "output_type": "execute_result"
    },
    {
     "data": {
      "image/png": "[encoded data removed]",
      "text/plain": [
       "<Figure size 432x288 with 1 Axes>"
      ]
     },
     "metadata": {
      "needs_background": "light"
     },
     "output_type": "display_data"
    }
   ],
   "source": [
    "import seaborn as sns\n",
    "sns.histplot(descriptive_df, x=\"Age\")"
   ]
  },
  {
   "cell_type": "code",
   "execution_count": 11,
   "metadata": {},
   "outputs": [
    {
     "data": {
      "text/plain": [
       "<matplotlib.axes._subplots.AxesSubplot at 0x13b580990>"
      ]
     },
     "execution_count": 11,
     "metadata": {},
     "output_type": "execute_result"
    },
    {
     "data": {
      "image/png": "[encoded data removed]",
      "text/plain": [
       "<Figure size 432x288 with 1 Axes>"
      ]
     },
     "metadata": {
      "needs_background": "light"
     },
     "output_type": "display_data"
    }
   ],
   "source": [
    "sns.histplot(descriptive_df, x=\"Speed\")"
   ]
  },
  {
   "cell_type": "code",
   "execution_count": 12,
   "metadata": {},
   "outputs": [
    {
     "data": {
      "text/plain": [
       "<matplotlib.axes._subplots.AxesSubplot at 0x13f954ad0>"
      ]
     },
     "execution_count": 12,
     "metadata": {},
     "output_type": "execute_result"
    },
    {
     "data": {
      "image/png": "[encoded data removed]",
      "text/plain": [
       "<Figure size 432x288 with 1 Axes>"
      ]
     },
     "metadata": {
      "needs_background": "light"
     },
     "output_type": "display_data"
    }
   ],
   "source": [
    "sns.histplot(descriptive_df, x=\"Stride Length\")"
   ]
  },
  {
   "cell_type": "code",
   "execution_count": 13,
   "metadata": {},
   "outputs": [
    {
     "data": {
      "text/plain": [
       "<matplotlib.axes._subplots.AxesSubplot at 0x13dd2c310>"
      ]
     },
     "execution_count": 13,
     "metadata": {},
     "output_type": "execute_result"
    },
    {
     "data": {
      "image/png": "[encoded data removed]",
      "text/plain": [
       "<Figure size 432x288 with 1 Axes>"
      ]
     },
     "metadata": {
      "needs_background": "light"
     },
     "output_type": "display_data"
    }
   ],
   "source": [
    "sns.histplot(descriptive_df, x=\"EMGFreq\")"
   ]
  },
  {
   "cell_type": "code",
   "execution_count": 14,
   "metadata": {},
   "outputs": [
    {
     "data": {
      "text/plain": [
       "<matplotlib.axes._subplots.AxesSubplot at 0x133f63b50>"
      ]
     },
     "execution_count": 14,
     "metadata": {},
     "output_type": "execute_result"
    },
    {
     "data": {
      "image/png": "[encoded data removed]",
      "text/plain": [
       "<Figure size 432x288 with 1 Axes>"
      ]
     },
     "metadata": {
      "needs_background": "light"
     },
     "output_type": "display_data"
    }
   ],
   "source": [
    "sns.histplot(descriptive_df, x=\"Height\")"
   ]
  },
  {
   "cell_type": "code",
   "execution_count": 15,
   "metadata": {},
   "outputs": [
    {
     "data": {
      "text/plain": [
       "<matplotlib.axes._subplots.AxesSubplot at 0x13fa0fcd0>"
      ]
     },
     "execution_count": 15,
     "metadata": {},
     "output_type": "execute_result"
    },
    {
     "data": {
      "image/png": "[encoded data removed]",
      "text/plain": [
       "<Figure size 432x288 with 1 Axes>"
      ]
     },
     "metadata": {
      "needs_background": "light"
     },
     "output_type": "display_data"
    }
   ],
   "source": [
    "sns.histplot(descriptive_df, x=\"Mass\")"
   ]
  },
  {
   "cell_type": "markdown",
   "metadata": {},
   "source": [
    "adasda\n"
   ]
  },
  {
   "cell_type": "code",
   "execution_count": null,
   "metadata": {},
   "outputs": [],
   "source": [
    "import matplotlib.pyplot as plt\n",
    "plt.plot(RecordedData1.loc[0,'TA'])\n",
    "plt.plot(RecordedData1.loc[1,'TA'])\n",
    "plt.plot(RecordedData1.loc[38,'TA'])\n",
    "plt.show()"
   ]
  }
 ],
 "metadata": {
  "kernelspec": {
   "display_name": "Python 3",
   "language": "python",
   "name": "python3"
  },
  "language_info": {
   "codemirror_mode": {
    "name": "ipython",
    "version": 3
   },
   "file_extension": ".py",
   "mimetype": "text/x-python",
   "name": "python",
   "nbconvert_exporter": "python",
   "pygments_lexer": "ipython3",
   "version": "3.7.6"
  }
 },
 "nbformat": 4,
 "nbformat_minor": 4
}
