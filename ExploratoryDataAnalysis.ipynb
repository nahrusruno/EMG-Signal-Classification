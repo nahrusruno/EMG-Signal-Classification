from convertMatToCsv.py import get_csv
# %run generateDataset.ipynb # it's ok for .ipynb files
main_df = get_csv()
main_df.head()
