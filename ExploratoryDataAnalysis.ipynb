from convertMatToCsv.py import get_csv
# %run generateDataset.ipynb # it's ok for .ipynb files
main_df = get_csv()

main_df.head()

print('Total trail number: {}'.format(main_df.shape[0]))
print('Walking trail number: {}'.format(main_df[main_df['Task']=='Walking'].shape[0]))
print('Step Up trail number: {}'.format(main_df[main_df['Task']=='StepUp'].shape[0]))
print('Step Down trail number: {}'.format(main_df[main_df['Task']=='StepDown'].shape[0]))
print('Toe Walking trail number: {}'.format(main_df[main_df['Task']=='ToeWalking'].shape[0]))
print('Heel Walking trail number: {}'.format(main_df[main_df['Task']=='HeelWalking'].shape[0])) 

